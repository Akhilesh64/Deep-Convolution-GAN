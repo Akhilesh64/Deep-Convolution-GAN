{
  "nbformat": 4,
  "nbformat_minor": 0,
  "metadata": {
    "accelerator": "GPU",
    "colab": {
      "name": "DCGAN.ipynb",
      "provenance": [],
      "collapsed_sections": []
    },
    "kernelspec": {
      "display_name": "Python 3",
      "language": "python",
      "name": "python3"
    },
    "language_info": {
      "codemirror_mode": {
        "name": "ipython",
        "version": 3
      },
      "file_extension": ".py",
      "mimetype": "text/x-python",
      "name": "python",
      "nbconvert_exporter": "python",
      "pygments_lexer": "ipython3",
      "version": "3.7.3"
    }
  },
  "cells": [
    {
      "cell_type": "code",
      "metadata": {
        "id": "0uNTLewDZgP-",
        "colab_type": "code",
        "colab": {}
      },
      "source": [
        "from google.colab import drive\n",
        "drive.mount('/content/drive')"
      ],
      "execution_count": null,
      "outputs": []
    },
    {
      "cell_type": "code",
      "metadata": {
        "colab_type": "code",
        "id": "gnAfen1wwF8i",
        "colab": {}
      },
      "source": [
        "import glob\n",
        "import numpy as np\n",
        "import os\n",
        "import time\n",
        "import imageio\n",
        "import tensorflow as tf\n",
        "from PIL import Image\n",
        "from google.colab import files\n",
        "import matplotlib.pyplot as plt\n",
        "from tensorflow.keras.models import Sequential\n",
        "from tensorflow.keras.layers import Conv2D, Conv2DTranspose, Dense, BatchNormalization, LeakyReLU, Dropout, Flatten, Reshape, ReLU"
      ],
      "execution_count": null,
      "outputs": []
    },
    {
      "cell_type": "code",
      "metadata": {
        "colab_type": "code",
        "id": "ItAN5YB3wXvj",
        "colab": {}
      },
      "source": [
        "!wget https://www.robots.ox.ac.uk/~vgg/data/flowers/102/102flowers.tgz"
      ],
      "execution_count": null,
      "outputs": []
    },
    {
      "cell_type": "code",
      "metadata": {
        "colab_type": "code",
        "id": "W5vwkj8Jwk1S",
        "colab": {}
      },
      "source": [
        "!tar -xzf 102flowers.tgz\n",
        "!rm -f 102flowers.tgz"
      ],
      "execution_count": null,
      "outputs": []
    },
    {
      "cell_type": "code",
      "metadata": {
        "colab_type": "code",
        "id": "m9XsOREx4HQJ",
        "colab": {}
      },
      "source": [
        "for infile in glob.glob('/content/jpg/'+'*.jpg'):\n",
        "  file, ext = os.path.splitext(infile)\n",
        "  im = Image.open(infile)\n",
        "  im = im.resize((128,128))\n",
        "  os.remove(infile)\n",
        "  im.save(file+'.jpg')\n",
        "\n",
        "train_data = []\n",
        "for image_path in glob.glob('/content/jpg/'+'*.jpg'):\n",
        "  image = imageio.imread(image_path)\n",
        "  train_data.append(image)\n",
        "\n",
        "x_train = np.array(train_data)\n",
        "\n",
        "x_train = (x_train.astype(np.float32) - 127.5) / 127.5\n",
        "\n",
        "x_train.shape[0]"
      ],
      "execution_count": null,
      "outputs": []
    },
    {
      "cell_type": "code",
      "metadata": {
        "colab_type": "code",
        "id": "SmKCaRooykPj",
        "colab": {}
      },
      "source": [
        "plt.imshow(x_train[8188])"
      ],
      "execution_count": null,
      "outputs": []
    },
    {
      "cell_type": "code",
      "metadata": {
        "colab_type": "code",
        "id": "ckquba1YjBHo",
        "colab": {}
      },
      "source": [
        "BUFFER_SIZE = x_train.shape[0]\n",
        "BATCH_SIZE = 256"
      ],
      "execution_count": null,
      "outputs": []
    },
    {
      "cell_type": "code",
      "metadata": {
        "colab_type": "code",
        "id": "V3kr2czImnhu",
        "colab": {}
      },
      "source": [
        "train_dataset = tf.data.Dataset.from_tensor_slices(x_train).shuffle(BUFFER_SIZE).batch(BATCH_SIZE)"
      ],
      "execution_count": null,
      "outputs": []
    },
    {
      "cell_type": "code",
      "metadata": {
        "colab_type": "code",
        "id": "yAXDv_HI87db",
        "colab": {}
      },
      "source": [
        "def generator_model():\n",
        "  model = Sequential()\n",
        "  model.add(Dense(8*8*256, use_bias=False, input_shape=(100,)))\n",
        "  model.add(BatchNormalization())\n",
        "  model.add(ReLU())\n",
        "  model.add(Reshape((8,8,256), input_shape=(8*8*256,)))\n",
        "\n",
        "  model.add(Conv2DTranspose(128, (3, 3), strides=(2, 2), padding='same', use_bias=False))\n",
        "  model.add(BatchNormalization())\n",
        "  model.add(ReLU())\n",
        "\n",
        "  model.add(Conv2DTranspose(64, (3, 3), strides=(2, 2), padding='same', use_bias=False))\n",
        "  model.add(BatchNormalization())\n",
        "  model.add(ReLU())\n",
        "\n",
        "  model.add(Conv2DTranspose(32, (3, 3), strides=(2, 2), padding='same', use_bias=False))\n",
        "  model.add(BatchNormalization())\n",
        "  model.add(ReLU())\n",
        "      \n",
        "  model.add(Conv2DTranspose(3, (3, 3), strides=(2, 2), padding='same', use_bias=False, activation='tanh'))\n",
        "\n",
        "  #model.summary()\n",
        "  return model"
      ],
      "execution_count": null,
      "outputs": []
    },
    {
      "cell_type": "code",
      "metadata": {
        "colab_type": "code",
        "id": "_oovS6lvZpRh",
        "colab": {}
      },
      "source": [
        "generator = generator_model()\n",
        "noise = tf.random.normal([1, 100])\n",
        "generator_image = generator(noise, training = False)\n",
        "plt.imshow(generator_image[0, :, :, 0])"
      ],
      "execution_count": null,
      "outputs": []
    },
    {
      "cell_type": "code",
      "metadata": {
        "colab_type": "code",
        "id": "fa4GZuvMrOqF",
        "colab": {}
      },
      "source": [
        "def discriminator_model():\n",
        "  model = Sequential()\n",
        "  model.add(Conv2D(32, 5, strides=(2,2), padding='same', input_shape=(128,128,3)))\n",
        "  model.add(LeakyReLU())\n",
        "  model.add(Dropout(0.5))\n",
        "\n",
        "  model.add(Conv2D(64, (5, 5), strides=(2, 2), padding='same'))\n",
        "  model.add(BatchNormalization())\n",
        "  model.add(LeakyReLU())\n",
        "  model.add(Dropout(0.5))\n",
        "\n",
        "  model.add(Conv2D(128, (5, 5), strides=(2, 2), padding='same'))\n",
        "  model.add(BatchNormalization())\n",
        "  model.add(LeakyReLU())\n",
        "  model.add(Dropout(0.5))\n",
        "\n",
        "  model.add(Conv2D(256, (5, 5), strides=(2, 2), padding='same'))\n",
        "  model.add(BatchNormalization())\n",
        "  model.add(LeakyReLU())\n",
        "  model.add(Dropout(0.5))\n",
        "\n",
        "  model.add(Flatten())\n",
        "  model.add(Dense(1))\n",
        "    \n",
        "  #model.summary()\n",
        "  return model"
      ],
      "execution_count": null,
      "outputs": []
    },
    {
      "cell_type": "code",
      "metadata": {
        "colab_type": "code",
        "id": "A5gbWg8PslcJ",
        "colab": {}
      },
      "source": [
        "discriminator = discriminator_model()\n",
        "suspect = discriminator(generator_image)\n",
        "suspect"
      ],
      "execution_count": null,
      "outputs": []
    },
    {
      "cell_type": "code",
      "metadata": {
        "colab_type": "code",
        "id": "NUwy6xap2TmN",
        "colab": {}
      },
      "source": [
        "generator_optimizer = tf.keras.optimizers.Adam(2e-4)\n",
        "discriminator_optimizer = tf.keras.optimizers.Adam(2e-4)\n",
        "\n",
        "cross_entropy = tf.keras.losses.BinaryCrossentropy(from_logits=True)"
      ],
      "execution_count": null,
      "outputs": []
    },
    {
      "cell_type": "code",
      "metadata": {
        "colab_type": "code",
        "id": "Dtz3Knewpl0Z",
        "colab": {}
      },
      "source": [
        "def discriminator_loss(real_output, fake_output):\n",
        "    real_loss = cross_entropy(tf.ones_like(real_output), real_output)\n",
        "    fake_loss = cross_entropy(tf.zeros_like(fake_output), fake_output)\n",
        "    total_loss = real_loss + fake_loss\n",
        "    print(total_loss)\n",
        "    return total_loss"
      ],
      "execution_count": null,
      "outputs": []
    },
    {
      "cell_type": "code",
      "metadata": {
        "colab_type": "code",
        "id": "Gwo1n3mIrv3w",
        "colab": {}
      },
      "source": [
        "def generator_loss(fake_output):\n",
        "    return cross_entropy(tf.ones_like(fake_output), fake_output)"
      ],
      "execution_count": null,
      "outputs": []
    },
    {
      "cell_type": "code",
      "metadata": {
        "colab_type": "code",
        "id": "1MGZ6yA5rxn3",
        "colab": {}
      },
      "source": [
        "EPOCHS = 5000\n",
        "noise_dim = 100\n",
        "num_examples_to_generate = 10\n",
        "seed = tf.random.normal([num_examples_to_generate, noise_dim])"
      ],
      "execution_count": null,
      "outputs": []
    },
    {
      "cell_type": "code",
      "metadata": {
        "colab_type": "code",
        "id": "12nI_8_Tr4Qc",
        "colab": {}
      },
      "source": [
        "@tf.function\n",
        "def train_step(images):\n",
        "    noise = tf.random.normal([BATCH_SIZE, noise_dim])\n",
        "\n",
        "    with tf.GradientTape() as gen_tape, tf.GradientTape() as disc_tape:\n",
        "      generated_images = generator(noise, training=True)\n",
        "\n",
        "      real_output = discriminator(images, training=True)\n",
        "      fake_output = discriminator(generated_images, training=True)\n",
        "\n",
        "      gen_loss = generator_loss(fake_output)\n",
        "      disc_loss = discriminator_loss(real_output, fake_output)\n",
        "\n",
        "    gradients_of_generator = gen_tape.gradient(gen_loss, generator.trainable_variables)\n",
        "    gradients_of_discriminator = disc_tape.gradient(disc_loss, discriminator.trainable_variables)\n",
        "\n",
        "    generator_optimizer.apply_gradients(zip(gradients_of_generator, generator.trainable_variables))\n",
        "    discriminator_optimizer.apply_gradients(zip(gradients_of_discriminator, discriminator.trainable_variables))\n"
      ],
      "execution_count": null,
      "outputs": []
    },
    {
      "cell_type": "code",
      "metadata": {
        "colab_type": "code",
        "id": "NM1rGsMlsARP",
        "colab": {}
      },
      "source": [
        "from IPython import display\n",
        "\n",
        "def train(dataset, epochs):\n",
        "  for epoch in range(epochs):\n",
        "    start = time.time()\n",
        "\n",
        "    for image_batch in dataset:\n",
        "      train_step(image_batch)\n",
        "\n",
        "    display.clear_output(wait=True)\n",
        "    generate_and_save_images(generator, epoch+1, seed)\n",
        "\n",
        "    print ('Time for epoch {} is {} sec'.format(epoch + 1, time.time()-start))\n",
        "\n",
        "  display.clear_output(wait=True)\n",
        "  generate_and_save_images(generator, epochs, seed)"
      ],
      "execution_count": null,
      "outputs": []
    },
    {
      "cell_type": "code",
      "metadata": {
        "id": "K4WVBMV4UNJd",
        "colab_type": "code",
        "colab": {}
      },
      "source": [
        "%cd '/content/drive/My Drive/GAN1'"
      ],
      "execution_count": null,
      "outputs": []
    },
    {
      "cell_type": "code",
      "metadata": {
        "colab_type": "code",
        "id": "2askt7dFsvCj",
        "colab": {}
      },
      "source": [
        "def generate_and_save_images(model, epoch, test_input):\n",
        "  predictions = model(test_input, training=False)\n",
        "  \n",
        "  fig = plt.figure(figsize=(15,7))\n",
        "  for i in range(predictions.shape[0]):\n",
        "      preds = predictions[i,:,:,:]\n",
        "      preds = np.array(preds)\n",
        "      preds = (preds * 127.5) + 127.5\n",
        "      plt.subplot(2, 5, i+1)\n",
        "      p = (preds).astype(np.uint8)\n",
        "      plt.axis('off')\n",
        "  if(epoch % 25 == 0):\n",
        "    plt.savefig('image_at_epoch_{:04d}.png'.format(epoch))"
      ],
      "execution_count": null,
      "outputs": []
    },
    {
      "cell_type": "code",
      "metadata": {
        "colab_type": "code",
        "id": "hoFpG-26s0xO",
        "colab": {}
      },
      "source": [
        "train(train_dataset, EPOCHS)"
      ],
      "execution_count": null,
      "outputs": []
    },
    {
      "cell_type": "code",
      "metadata": {
        "id": "RL-7FtcTF-bj",
        "colab_type": "code",
        "colab": {}
      },
      "source": [
        ""
      ],
      "execution_count": null,
      "outputs": []
    }
  ]
}